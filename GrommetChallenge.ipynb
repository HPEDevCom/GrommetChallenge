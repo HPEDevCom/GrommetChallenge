{
 "cells": [
  {
   "cell_type": "markdown",
   "metadata": {},
   "source": [
    "![hpedev.io](https://developer.hpe.com/img/hpe-dev-logo-mark-anim.svg?1580730675069 \"HPE DEV Hack Shack\")\n",
    "\n",
    "\n",
    "# Welcome to the DISCOVER Hack Shack Grommet Challenge\n",
    "\n",
    "## Challenge prerequisites\n",
    "\n",
    "We recommend you attend the following Discover Hack Shack workshops before attempting this challenge:\n",
    "\n",
    "1. [Hack Shack Workshop: Git 101](../../WKSHP-GIT101/0-ReadmeFirst.ipynb)\n",
    "2. [Hack Shack Workshop: Streamline app development with open source Grommet](../../WKSHP-Grommet/0-ReadmeFirst.ipynb)\n",
    "\n",
    "Also, make sure you leverage the notebooks provided in your Jupyter account environment as reference material.\n",
    "\n",
    "> Please note, your account session will only be allocated for a 4-hour time slot, so make sure you register only when you have enough time available to take the challenge.\n",
    "\n",
    "# Challenge description\n",
    "\n",
    "A new mission awaits! In this challenge, you will take on a UX designer persona and show your creative side using Grommet to design your own little web app UI. You will start with the Grommet Designer, generate code from your design, push that code to GitHub, and finally deploy the app on Netlify. Beginner through expert designers and developers are all welcome. This challenge is all about unleashing your creativity!\n",
    "\n",
    "# Step 1: Build a sample front-end application\n",
    "\n",
    "The first step to accomplish this challenge is to create a web front-end application, and for this we would like you to use Grommet Designer. Keep it simple yet slick, show your design prowess. The [Hack Shack Workshop: Streamline app development with open source Grommet](../WKSHP-Grommet/1-WKSHP-Introduction.ipynb) is your best point of reference  for this step, if you need help.\n",
    "\n",
    "## Quiz question 1:\n",
    "\n",
    "What is the URL of the Grommet Designer?"
   ]
  },
  {
   "cell_type": "code",
   "execution_count": 1,
   "metadata": {},
   "outputs": [],
   "source": [
    "Https://designer.grommet.io"
   ]
  },
  {
   "cell_type": "markdown",
   "metadata": {},
   "source": [
    "\n",
    "# Step 2: Run your web application locally\n",
    "\n",
    "The next step of the challenge is to make this application work locally on your laptop. The Grommet Designer online instructions and the [Lab 3 of the Grommet Workshop](../WKSHP-Grommet/3-WKSHP-PrepareEnvironment.ipynb) are your best source of information for accomplishing this. \n",
    "\n",
    "# Step 3: Share your application in GitHub\n",
    "\n",
    "In this step, you will use the local version of your application to create a local git repo and then upload it into your GitHub account. The [Hack Shack Workshop: Git 101](../WKSHP-GIT101/1-WKSHP-GIT-Basics.ipynb) and [the last part of Lab 3 of the Grommet Workshop](../WKSHP-Grommet/3-WKSHP-PrepareEnvironment.ipynb) are your best sources of information for accomplishing this.\n",
    " \n",
    "## Quiz question 2:\n",
    "\n",
    "What is the URL of your application source code repo on GitHub?"
   ]
  },
  {
   "cell_type": "code",
   "execution_count": 2,
   "metadata": {},
   "outputs": [],
   "source": [
    "# Your response goes here"
   ]
  },
  {
   "cell_type": "markdown",
   "metadata": {},
   "source": [
    "# Step 4: Set up CI/CD pipeline for your application\n",
    "\n",
    "This is the final step of your challenge. We will ask you to use [Netlifly](https://netlifly.com) to host your application so we can judge it. For this you will need to setup an account on [Netlifly](https://netlifly.com) (this is free) and a CI/CD configuration so that [Netlifly](https://netlifly.com) automatically builds your web site from your GitHub repo created in Step 3. Use [Lab4 of the Grommet Workshop](../WKSHP-Grommet/4-WKSHP-DeploytoNetlify.ipynb) for details on how to accomplish this. Once this is all in place, not only will your application be up and running (try changing the domain name to obtain a friendly URL), but it will automatically update everytime you commit changes to it in GitHub. \n",
    "\n",
    "> Note: You can use this feature as an opportunity to continue improve your design until the \"judgment day\", since the URL you have submitted will not change ;-)\n",
    "\n",
    "## Quiz question 3:\n",
    "\n",
    "What is the URL of your application on Netlifly?"
   ]
  },
  {
   "cell_type": "code",
   "execution_count": null,
   "metadata": {},
   "outputs": [],
   "source": [
    "# Your response goes here"
   ]
  },
  {
   "cell_type": "markdown",
   "metadata": {},
   "source": [
    "Finished? Well done! It's now time to submit your reponse.\n",
    "\n",
    "# Submitting your response \n",
    "\n",
    "In order to hand in your response to this challenge, we will ask you to use GitHub to submit the modified version of the Jupyter Notebook.\n",
    "Follow instructions from the [Hack Shack Workshop: Git 101](../WKSHP-GIT101/1-WKSHP-GIT-Basics.ipynb) notebook if you need help.\n",
    "\n",
    "Submitting your response to the challenge will be done by submitting your edited challenge notebook (in some cases there might be additional edited files in the repo). When you are ready, we will ask you to leverage GitHub again and do the following:\n",
    "\n",
    "- Step 1: Commit changes in your Jupyter environment  (again using your Launcher terminal window)\n",
    "- Step 2: Push changes to your repo  (still using your Launcher terminal window)\n",
    "- Step 3: Open a Pull Request (PR) on our original repo. Make sure you provide an email in the description of the PR so we can contact you if your submission has been chosen. (This step is done from your GitHub account).\n",
    "\n",
    "![Open PR](Pictures/NewPullRequest.png)\n",
    "\n",
    "You should submit your response within the 4-hour time slot. We will reset all the Jupyter accounts right after the time is up, so make sure you have at least committed and pushed your changes back to your repo prior to that. You will then have more time to submit your PR.\n",
    "\n",
    "> Note: Use the [GIT101 notebook](./WKSHP-GIT101/1-WKSHP-GIT-Basics.ipynb) if you need assistance with these steps\n",
    "\n",
    "# Looking for help?\n",
    "\n",
    "Don't hesitate to refer back to the notebooks in your Jupyter accounts for help in answering questions that come up in the challenge. We have set up a Slack channel in the HPE DEV Slack Workspace. Feel free to [join the workspace](https://slack.hpedev.io/) then [start asking questions there](https://hpedev.slack.com/archives/C015CLE2QTT). We will be around to help you.\n",
    "\n",
    "Finally, in case of a real emergency, you can contact the [HPEDEV Team](mailto:hpedev.hackshack@hpe.com).\n",
    "\n",
    "Please note that during the period of June 30th, until July 17th the Slack channel will be opened 24x7, with monitoring from the HPE DEV Team from 9AM-6PM CET.\n",
    "\n",
    "# Providing feedback\n",
    "\n",
    "We would love to get feedback about your experience with the Hack Shack Challenges, so please take a moment to fill out that [short survey](https://forms.office.com/Pages/ResponsePage.aspx?id=YSBbEGm2MUuSrCTTBNGV3KHzFdd987lBoQATWJq45DdUNEVQTzdQV1NZM1MxNVVDMDRPRlFGUTlaQi4u) for us:\n",
    "\n",
    "# Challenge rewards\n",
    "\n",
    "We will select and reward the best response per challenge subject at the end of the HPE Discover Virtual Experience Challenges period. In addition to this, we will have a drawing amongst all the challengers who participated in all four challenges and also reward this super-challenger. \n",
    "\n",
    "[Review the terms & conditions](https://hackshack.hpedev.io/challengetermsconditions)\n"
   ]
  }
 ],
 "metadata": {
  "kernelspec": {
   "display_name": "Python 3",
   "language": "python",
   "name": "python3"
  },
  "language_info": {
   "codemirror_mode": {
    "name": "ipython",
    "version": 3
   },
   "file_extension": ".py",
   "mimetype": "text/x-python",
   "name": "python",
   "nbconvert_exporter": "python",
   "pygments_lexer": "ipython3",
   "version": "3.6.9"
  }
 },
 "nbformat": 4,
 "nbformat_minor": 4
}
